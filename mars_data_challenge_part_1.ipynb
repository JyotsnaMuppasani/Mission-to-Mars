{
 "cells": [
  {
   "cell_type": "code",
   "execution_count": 1,
   "id": "54cba5ce",
   "metadata": {},
   "outputs": [],
   "source": [
    "from splinter import Browser\n",
    "from bs4 import BeautifulSoup as soup\n",
    "from webdriver_manager.chrome import ChromeDriverManager"
   ]
  },
  {
   "cell_type": "code",
   "execution_count": 2,
   "id": "de20df36",
   "metadata": {},
   "outputs": [],
   "source": [
    "executable_path = {'executable_path': ChromeDriverManager().install()}\n",
    "browser = Browser('chrome', **executable_path, headless=False)"
   ]
  },
  {
   "cell_type": "code",
   "execution_count": 3,
   "id": "b274d5bc",
   "metadata": {},
   "outputs": [
    {
     "data": {
      "text/plain": [
       "True"
      ]
     },
     "execution_count": 3,
     "metadata": {},
     "output_type": "execute_result"
    }
   ],
   "source": [
    "url = 'https://redplanetscience.com/'\n",
    "browser.visit(url)\n",
    "browser.is_element_present_by_css('div.list_text', wait_time=1)"
   ]
  },
  {
   "cell_type": "code",
   "execution_count": 4,
   "id": "0fe0e931",
   "metadata": {},
   "outputs": [],
   "source": [
    "html = browser.html\n",
    "html_soup = soup(html, 'html.parser')"
   ]
  },
  {
   "cell_type": "code",
   "execution_count": 5,
   "id": "dbe4c3a1",
   "metadata": {},
   "outputs": [],
   "source": [
    "import numpy as np\n",
    "import pandas as pd"
   ]
  },
  {
   "cell_type": "code",
   "execution_count": 6,
   "id": "e7133398",
   "metadata": {
    "scrolled": true
   },
   "outputs": [
    {
     "name": "stdout",
     "output_type": "stream",
     "text": [
      "{'title': \"NASA's Curiosity Rover Finds an Ancient Oasis on Mars\", 'preview': \"New evidence suggests salty, shallow ponds once dotted a Martian crater — a sign of the planet's drying climate.\"}\n",
      "{'title': \"Robotic Toolkit Added to NASA's Mars 2020 Rover\", 'preview': \"The bit carousel, which lies at the heart of the rover's Sample Caching System, is now aboard NASA's newest rover. \"}\n",
      "{'title': \"NASA InSight's 'Mole' Is Out of Sight\", 'preview': \"Now that the heat probe is just below the Martian surface, InSight's arm will scoop some additional soil on top to help it keep digging so it can take Mars' temperature.\"}\n",
      "{'title': \"Deadline Closing for Names to Fly on NASA's Next Mars Rover\", 'preview': 'You have until Sept. 30 to send your names to Mars aboard the Mars 2020 rover. '}\n",
      "{'title': \"NASA's Perseverance Mars Rover Gets Its Wheels and Air Brakes\", 'preview': 'After the rover was shipped from JPL to Kennedy Space Center, the team is getting closer to finalizing the spacecraft for launch later this summer.'}\n",
      "{'title': 'NASA Updates Mars 2020 Mission Environmental Review', 'preview': 'NASA and the Department of Energy have completed a more detailed risk analysis for the Mars 2020 rover launch from Florida.'}\n",
      "{'title': 'Mars 2020 Stands on Its Own Six Wheels', 'preview': \"In time-lapse video, taken at JPL, captures the first time NASA's Mars 2020 rover carries its full weight on its legs and wheels.\"}\n",
      "{'title': 'Mars 2020 Unwrapped and Ready for More Testing', 'preview': \"In time-lapse video, bunny-suited engineers remove the inner layer of protective foil on NASA's Mars 2020 rover after it was relocated for testing.\"}\n",
      "{'title': \"NASA's Perseverance Rover Mission Getting in Shape for Launch\", 'preview': 'Stacking spacecraft components on top of each other is one of the final assembly steps before a mission launches to the Red Planet. '}\n",
      "{'title': \"NASA's Perseverance Rover Will Carry First Spacesuit Materials to Mars\", 'preview': 'In a Q&A, spacesuit designer Amy Ross explains how five samples, including a piece of helmet visor, will be tested aboard the rover, which is targeting a July 30 launch. '}\n",
      "{'title': \"NASA's Mars 2020 Rover Closer to Getting Its Name\", 'preview': \"155 students from across the U.S. have been chosen as semifinalists in NASA's essay contest to name the Mars 2020 rover, and see it launch from Cape Canaveral this July.\"}\n",
      "{'title': \"NASA-JPL Names 'Rolling Stones Rock' on Mars\", 'preview': \"NASA's Mars InSight mission honored one of the biggest bands of all time at Pasadena concert.\"}\n",
      "{'title': \"NASA's Perseverance Rover Bringing 3D-Printed Metal Parts to Mars\", 'preview': \"For hobbyists and makers, 3D printing expands creative possibilities; for specialized engineers, it's also key to next-generation spacecraft design.\"}\n",
      "{'title': \"NASA's Treasure Map for Water Ice on Mars\", 'preview': 'A new study identifies frozen water just below the Martian surface, where astronauts could easily dig it up.'}\n",
      "{'title': \"NASA's Curiosity Takes Selfie With 'Mary Anning' on the Red Planet\", 'preview': 'The Mars rover has drilled three samples of rock in this clay-enriched region since arriving in July.'}\n"
     ]
    }
   ],
   "source": [
    "html = browser.html\n",
    "html_soup = soup(html, 'html.parser')\n",
    "\n",
    "all_titles = html_soup.find_all('div', class_='content_title')\n",
    "all_previews = html_soup.find_all('div', class_='article_teaser_body')\n",
    "titles = [title.text for title in all_titles]\n",
    "previews = [preview.text for preview in all_previews]\n",
    "\n",
    "for i in range(len(titles)):\n",
    "    print({\"title\": titles[i], \"preview\": previews[i]})\n"
   ]
  },
  {
   "cell_type": "code",
   "execution_count": 13,
   "id": "5bf54dda",
   "metadata": {},
   "outputs": [
    {
     "data": {
      "text/html": [
       "<div>\n",
       "<style scoped>\n",
       "    .dataframe tbody tr th:only-of-type {\n",
       "        vertical-align: middle;\n",
       "    }\n",
       "\n",
       "    .dataframe tbody tr th {\n",
       "        vertical-align: top;\n",
       "    }\n",
       "\n",
       "    .dataframe thead th {\n",
       "        text-align: right;\n",
       "    }\n",
       "</style>\n",
       "<table border=\"1\" class=\"dataframe\">\n",
       "  <thead>\n",
       "    <tr style=\"text-align: right;\">\n",
       "      <th></th>\n",
       "      <th>title</th>\n",
       "      <th>preview</th>\n",
       "    </tr>\n",
       "  </thead>\n",
       "  <tbody>\n",
       "    <tr>\n",
       "      <th>0</th>\n",
       "      <td>NASA's Curiosity Rover Finds an Ancient Oasis ...</td>\n",
       "      <td>New evidence suggests salty, shallow ponds onc...</td>\n",
       "    </tr>\n",
       "    <tr>\n",
       "      <th>1</th>\n",
       "      <td>Robotic Toolkit Added to NASA's Mars 2020 Rover</td>\n",
       "      <td>The bit carousel, which lies at the heart of t...</td>\n",
       "    </tr>\n",
       "    <tr>\n",
       "      <th>2</th>\n",
       "      <td>NASA InSight's 'Mole' Is Out of Sight</td>\n",
       "      <td>Now that the heat probe is just below the Mart...</td>\n",
       "    </tr>\n",
       "    <tr>\n",
       "      <th>3</th>\n",
       "      <td>Deadline Closing for Names to Fly on NASA's Ne...</td>\n",
       "      <td>You have until Sept. 30 to send your names to ...</td>\n",
       "    </tr>\n",
       "    <tr>\n",
       "      <th>4</th>\n",
       "      <td>NASA's Perseverance Mars Rover Gets Its Wheels...</td>\n",
       "      <td>After the rover was shipped from JPL to Kenned...</td>\n",
       "    </tr>\n",
       "    <tr>\n",
       "      <th>5</th>\n",
       "      <td>NASA Updates Mars 2020 Mission Environmental R...</td>\n",
       "      <td>NASA and the Department of Energy have complet...</td>\n",
       "    </tr>\n",
       "    <tr>\n",
       "      <th>6</th>\n",
       "      <td>Mars 2020 Stands on Its Own Six Wheels</td>\n",
       "      <td>In time-lapse video, taken at JPL, captures th...</td>\n",
       "    </tr>\n",
       "    <tr>\n",
       "      <th>7</th>\n",
       "      <td>Mars 2020 Unwrapped and Ready for More Testing</td>\n",
       "      <td>In time-lapse video, bunny-suited engineers re...</td>\n",
       "    </tr>\n",
       "    <tr>\n",
       "      <th>8</th>\n",
       "      <td>NASA's Perseverance Rover Mission Getting in S...</td>\n",
       "      <td>Stacking spacecraft components on top of each ...</td>\n",
       "    </tr>\n",
       "    <tr>\n",
       "      <th>9</th>\n",
       "      <td>NASA's Perseverance Rover Will Carry First Spa...</td>\n",
       "      <td>In a Q&amp;A, spacesuit designer Amy Ross explains...</td>\n",
       "    </tr>\n",
       "    <tr>\n",
       "      <th>10</th>\n",
       "      <td>NASA's Mars 2020 Rover Closer to Getting Its Name</td>\n",
       "      <td>155 students from across the U.S. have been ch...</td>\n",
       "    </tr>\n",
       "    <tr>\n",
       "      <th>11</th>\n",
       "      <td>NASA-JPL Names 'Rolling Stones Rock' on Mars</td>\n",
       "      <td>NASA's Mars InSight mission honored one of the...</td>\n",
       "    </tr>\n",
       "    <tr>\n",
       "      <th>12</th>\n",
       "      <td>NASA's Perseverance Rover Bringing 3D-Printed ...</td>\n",
       "      <td>For hobbyists and makers, 3D printing expands ...</td>\n",
       "    </tr>\n",
       "    <tr>\n",
       "      <th>13</th>\n",
       "      <td>NASA's Treasure Map for Water Ice on Mars</td>\n",
       "      <td>A new study identifies frozen water just below...</td>\n",
       "    </tr>\n",
       "    <tr>\n",
       "      <th>14</th>\n",
       "      <td>NASA's Curiosity Takes Selfie With 'Mary Annin...</td>\n",
       "      <td>The Mars rover has drilled three samples of ro...</td>\n",
       "    </tr>\n",
       "  </tbody>\n",
       "</table>\n",
       "</div>"
      ],
      "text/plain": [
       "                                                title  \\\n",
       "0   NASA's Curiosity Rover Finds an Ancient Oasis ...   \n",
       "1     Robotic Toolkit Added to NASA's Mars 2020 Rover   \n",
       "2               NASA InSight's 'Mole' Is Out of Sight   \n",
       "3   Deadline Closing for Names to Fly on NASA's Ne...   \n",
       "4   NASA's Perseverance Mars Rover Gets Its Wheels...   \n",
       "5   NASA Updates Mars 2020 Mission Environmental R...   \n",
       "6              Mars 2020 Stands on Its Own Six Wheels   \n",
       "7      Mars 2020 Unwrapped and Ready for More Testing   \n",
       "8   NASA's Perseverance Rover Mission Getting in S...   \n",
       "9   NASA's Perseverance Rover Will Carry First Spa...   \n",
       "10  NASA's Mars 2020 Rover Closer to Getting Its Name   \n",
       "11       NASA-JPL Names 'Rolling Stones Rock' on Mars   \n",
       "12  NASA's Perseverance Rover Bringing 3D-Printed ...   \n",
       "13          NASA's Treasure Map for Water Ice on Mars   \n",
       "14  NASA's Curiosity Takes Selfie With 'Mary Annin...   \n",
       "\n",
       "                                              preview  \n",
       "0   New evidence suggests salty, shallow ponds onc...  \n",
       "1   The bit carousel, which lies at the heart of t...  \n",
       "2   Now that the heat probe is just below the Mart...  \n",
       "3   You have until Sept. 30 to send your names to ...  \n",
       "4   After the rover was shipped from JPL to Kenned...  \n",
       "5   NASA and the Department of Energy have complet...  \n",
       "6   In time-lapse video, taken at JPL, captures th...  \n",
       "7   In time-lapse video, bunny-suited engineers re...  \n",
       "8   Stacking spacecraft components on top of each ...  \n",
       "9   In a Q&A, spacesuit designer Amy Ross explains...  \n",
       "10  155 students from across the U.S. have been ch...  \n",
       "11  NASA's Mars InSight mission honored one of the...  \n",
       "12  For hobbyists and makers, 3D printing expands ...  \n",
       "13  A new study identifies frozen water just below...  \n",
       "14  The Mars rover has drilled three samples of ro...  "
      ]
     },
     "execution_count": 13,
     "metadata": {},
     "output_type": "execute_result"
    }
   ],
   "source": [
    "marsresults_df = {\"title\": titles, \"preview\": previews}\n",
    "DD_df = pd.DataFrame.from_dict(marsresults_df)\n",
    "DD_df"
   ]
  },
  {
   "cell_type": "code",
   "execution_count": 15,
   "id": "1e985fba",
   "metadata": {},
   "outputs": [],
   "source": [
    "# Create the output file (CSV).\n",
    "output_data_file = \"C:/Users/jyots/ucb/hw/MOD 11/Results/MarsData.csv\"\n",
    "# Export the City_Data into a CSV.\n",
    "DD_df.to_csv(output_data_file, index_label=\"Mars_Data\")"
   ]
  }
 ],
 "metadata": {
  "kernelspec": {
   "display_name": "Python 3 (ipykernel)",
   "language": "python",
   "name": "python3"
  },
  "language_info": {
   "codemirror_mode": {
    "name": "ipython",
    "version": 3
   },
   "file_extension": ".py",
   "mimetype": "text/x-python",
   "name": "python",
   "nbconvert_exporter": "python",
   "pygments_lexer": "ipython3",
   "version": "3.9.12"
  }
 },
 "nbformat": 4,
 "nbformat_minor": 5
}
